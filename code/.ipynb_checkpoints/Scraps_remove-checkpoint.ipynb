{
 "cells": [
  {
   "cell_type": "code",
   "execution_count": 34,
   "id": "16cdfb23-2731-4337-ada9-da27d6681fb0",
   "metadata": {},
   "outputs": [],
   "source": [
    "import numpy as np\n",
    "import seaborn as sns\n",
    "import pandas as pd\n",
    "import matplotlib.pyplot as plt\n",
    "%matplotlib inline\n",
    "\n",
    "from sklearn.linear_model import LinearRegression, LassoCV, Lasso\n",
    "from sklearn.feature_selection import SelectFromModel\n",
    "from sklearn.model_selection import cross_val_score, train_test_split\n",
    "from sklearn.preprocessing import StandardScaler, PolynomialFeatures\n",
    "\n",
    "pd.pandas.set_option('display.max_columns', None)"
   ]
  },
  {
   "cell_type": "code",
   "execution_count": 35,
   "id": "5ce78cc1-fc65-48f7-832a-5afa5f0365ed",
   "metadata": {},
   "outputs": [],
   "source": [
    "df = pd.read_csv('../data/train_dummyfixed.csv')\n",
    "final_df = pd.read_csv('../data/test_dummyfixed.csv')"
   ]
  },
  {
   "cell_type": "code",
   "execution_count": 36,
   "id": "b6115814-1084-4b78-ad64-f62d3f1ca7ba",
   "metadata": {},
   "outputs": [
    {
     "name": "stdout",
     "output_type": "stream",
     "text": [
      "(2051, 207)\n",
      "(878, 206)\n"
     ]
    }
   ],
   "source": [
    "print(df.shape)\n",
    "print(final_df.shape)"
   ]
  },
  {
   "cell_type": "code",
   "execution_count": 10,
   "id": "6069f8ff-a4c4-4481-994e-c2fab93f9d9a",
   "metadata": {},
   "outputs": [
    {
     "ename": "IndentationError",
     "evalue": "unexpected indent (<ipython-input-10-2b2278513498>, line 2)",
     "output_type": "error",
     "traceback": [
      "\u001b[0;36m  File \u001b[0;32m\"<ipython-input-10-2b2278513498>\"\u001b[0;36m, line \u001b[0;32m2\u001b[0m\n\u001b[0;31m    'Year Remod/Add', 'Mas Vnr Area',\u001b[0m\n\u001b[0m    ^\u001b[0m\n\u001b[0;31mIndentationError\u001b[0m\u001b[0;31m:\u001b[0m unexpected indent\n"
     ]
    }
   ],
   "source": [
    "#old_features = ['MS SubClass', 'Lot Area',  'Year Built','Overall Qual', 'Overall Cond',\n",
    "       'Year Remod/Add', 'Mas Vnr Area', \n",
    "        '1st Flr SF', '2nd Flr SF','Total Bsmt SF','BsmtFin SF 1','BsmtFin SF 2',\n",
    "       'Low Qual Fin SF', 'TotRms AbvGrd', 'Fireplaces', 'Garage Yr Blt',\n",
    "       'Garage Area', 'Wood Deck SF', 'Open Porch SF', 'Enclosed Porch',\n",
    "       '3Ssn Porch', 'Screen Porch', 'Pool Area', 'Misc Val', 'Mo Sold',\n",
    "       'MS Zoning_RL', 'Condition 1_Norm', 'Heating QC_TA', 'Fireplace Qu_Gd',\n",
    "       'Paved Drive_Y']\n",
    "#  'Bsmt Unf SF',"
   ]
  },
  {
   "cell_type": "code",
   "execution_count": 11,
   "id": "cdcc9624-b0dd-4a89-bd0e-1c55bdf4c258",
   "metadata": {},
   "outputs": [
    {
     "ename": "IndentationError",
     "evalue": "unexpected indent (<ipython-input-11-c50ea860add1>, line 2)",
     "output_type": "error",
     "traceback": [
      "\u001b[0;36m  File \u001b[0;32m\"<ipython-input-11-c50ea860add1>\"\u001b[0;36m, line \u001b[0;32m2\u001b[0m\n\u001b[0;31m    'Street_Rare_var', 'Alley_Missing', 'Alley_Pave', 'Lot Shape_IR2',\u001b[0m\n\u001b[0m    ^\u001b[0m\n\u001b[0;31mIndentationError\u001b[0m\u001b[0;31m:\u001b[0m unexpected indent\n"
     ]
    }
   ],
   "source": [
    "#dummy_features_list = ['MS Zoning_RH', 'MS Zoning_RL', 'MS Zoning_RM', 'MS Zoning_Rare_var',\n",
    "       'Street_Rare_var', 'Alley_Missing', 'Alley_Pave', 'Lot Shape_IR2',\n",
    "       'Lot Shape_Rare_var', 'Lot Shape_Reg', 'Land Contour_HLS',\n",
    "       'Land Contour_Low', 'Land Contour_Lvl', 'Utilities_Rare_var',\n",
    "       'Lot Config_CulDSac', 'Lot Config_FR2', 'Lot Config_Inside',\n",
    "       'Lot Config_Rare_var', 'Land Slope_Mod', 'Land Slope_Rare_var',\n",
    "       'Condition 1_Feedr', 'Condition 1_Norm', 'Condition 1_PosN',\n",
    "       'Condition 1_RRAe', 'Condition 1_RRAn', 'Condition 1_Rare_var',\n",
    "       'Condition 2_Rare_var', 'Bldg Type_2fmCon', 'Bldg Type_Duplex',\n",
    "       'Bldg Type_Twnhs', 'Bldg Type_TwnhsE', 'House Style_1Story',\n",
    "       'House Style_2.5Unf', 'House Style_2Story', 'House Style_Rare_var',\n",
    "       'House Style_SFoyer', 'House Style_SLvl', 'Roof Style_Gambrel',\n",
    "       'Roof Style_Hip', 'Roof Style_Rare_var', 'Roof Matl_Rare_var',\n",
    "       'Exterior 1st_BrkFace', 'Exterior 1st_CemntBd', 'Exterior 1st_HdBoard',\n",
    "       'Exterior 1st_MetalSd', 'Exterior 1st_Plywood', 'Exterior 1st_Rare_var',\n",
    "       'Exterior 1st_Stucco', 'Exterior 1st_VinylSd','Exterior 1st_WdShing', 'Exterior 2nd_BrkFace', 'Exterior 2nd_CmentBd',\n",
    "       'Exterior 2nd_HdBoard', 'Exterior 2nd_MetalSd', 'Exterior 2nd_Plywood',\n",
    "       'Exterior 2nd_Rare_var', 'Exterior 2nd_Stucco', 'Exterior 2nd_VinylSd',\n",
    "       'Exterior 2nd_Wd Sdng', 'Exterior 2nd_Wd Shng', 'Mas Vnr Type_BrkFace',\n",
    "       'Mas Vnr Type_Missing', 'Mas Vnr Type_None', 'Mas Vnr Type_Rare_var',\n",
    "       'Mas Vnr Type_Stone', 'Exter Qual_Fa', 'Exter Qual_Gd', 'Exter Qual_TA',\n",
    "       'Exter Cond_Gd', 'Exter Cond_Rare_var', 'Exter Cond_TA',\n",
    "       'Foundation_CBlock', 'Foundation_PConc', 'Foundation_Rare_var',\n",
    "       'Foundation_Slab', 'Bsmt Qual_Fa', 'Bsmt Qual_Gd', 'Bsmt Qual_Missing',\n",
    "       'Bsmt Qual_Rare_var', 'Bsmt Qual_TA', 'Bsmt Cond_Gd',\n",
    "       'Bsmt Cond_Missing', 'Bsmt Cond_Rare_var', 'Bsmt Cond_TA',\n",
    "       'Bsmt Exposure_Gd', 'Bsmt Exposure_Missing', 'Bsmt Exposure_Mn',\n",
    "       'Bsmt Exposure_No', 'BsmtFin Type 1_BLQ', 'BsmtFin Type 1_GLQ',\n",
    "       'BsmtFin Type 1_LwQ', 'BsmtFin Type 1_Missing', 'BsmtFin Type 1_Rec',\n",
    "       'BsmtFin Type 1_Unf', 'BsmtFin Type 2_BLQ', 'BsmtFin Type 2_GLQ',\n",
    "       'BsmtFin Type 2_LwQ', 'BsmtFin Type 2_Missing','BsmtFin Type 2_Unf', 'Heating_Rare_var', 'Heating QC_Fa',\n",
    "       'Heating QC_Gd', 'Heating QC_Rare_var', 'Heating QC_TA',\n",
    "       'Central Air_Y', 'Electrical_FuseF', 'Electrical_Rare_var',\n",
    "       'Electrical_SBrkr', 'Kitchen Qual_Fa', 'Kitchen Qual_Gd',\n",
    "       'Kitchen Qual_Rare_var', 'Kitchen Qual_TA', 'Functional_Min2',\n",
    "       'Functional_Mod', 'Functional_Rare_var', 'Functional_Typ',\n",
    "       'Fireplace Qu_Fa', 'Fireplace Qu_Gd', 'Fireplace Qu_Missing',\n",
    "       'Fireplace Qu_Po', 'Fireplace Qu_TA', 'Garage Type_Basment',\n",
    "       'Garage Type_BuiltIn', 'Garage Type_Detchd', 'Garage Type_Missing',\n",
    "       'Garage Type_Rare_var', 'Garage Finish_Missing', 'Garage Finish_RFn',\n",
    "       'Garage Finish_Unf', 'Garage Qual_Missing', 'Garage Qual_Rare_var',\n",
    "       'Garage Qual_TA', 'Garage Cond_Missing', 'Garage Cond_Rare_var',\n",
    "       'Garage Cond_TA', 'Paved Drive_P', 'Paved Drive_Y', 'Pool QC_Rare_var',\n",
    "       'Fence_GdWo', 'Fence_Missing', 'Fence_MnPrv', 'Fence_Rare_var',\n",
    "       'Misc Feature_Rare_var', 'Misc Feature_Shed', 'Sale Type_ConLD',\n",
    "       'Sale Type_New', 'Sale Type_Rare_var', 'Sale Type_WD ']"
   ]
  },
  {
   "cell_type": "code",
   "execution_count": 12,
   "id": "9cfad84e-70e0-4ba4-ae83-f7cc674ab7c2",
   "metadata": {},
   "outputs": [],
   "source": [
    "#features = (old_features +['Neighborhood']+dummy_features_list)"
   ]
  },
  {
   "cell_type": "code",
   "execution_count": 37,
   "id": "3d08f4b3-c882-49d4-8209-15565eec9593",
   "metadata": {},
   "outputs": [],
   "source": [
    "X = df.drop(columns = ['SalePrice'])\n",
    "y = df['SalePrice']"
   ]
  },
  {
   "cell_type": "code",
   "execution_count": 38,
   "id": "0a22977c-f79d-4e05-9357-c5728c657401",
   "metadata": {},
   "outputs": [],
   "source": [
    "X_train, X_test, y_train, y_test = train_test_split(X,y, random_state= 13)"
   ]
  },
  {
   "cell_type": "code",
   "execution_count": 15,
   "id": "520dfdb4-7e28-4caa-8502-66fc3d0af040",
   "metadata": {},
   "outputs": [],
   "source": [
    "#alphas = np.linspace(0.0001,0.001,1000)\n"
   ]
  },
  {
   "cell_type": "code",
   "execution_count": 39,
   "id": "d3266129-4dca-4a38-ac48-0e317d806745",
   "metadata": {},
   "outputs": [
    {
     "name": "stderr",
     "output_type": "stream",
     "text": [
      "/Users/bku/opt/anaconda3/lib/python3.8/site-packages/sklearn/linear_model/_coordinate_descent.py:530: ConvergenceWarning: Objective did not converge. You might want to increase the number of iterations. Duality gap: 12.861825963511015, tolerance: 0.02647619022902733\n",
      "  model = cd_fast.enet_coordinate_descent(\n"
     ]
    },
    {
     "data": {
      "text/plain": [
       "206"
      ]
     },
     "execution_count": 39,
     "metadata": {},
     "output_type": "execute_result"
    }
   ],
   "source": [
    "feature_select_model = SelectFromModel(Lasso(alpha=0.001, random_state=13)) #alpha=0.005, 0.00075\n",
    "feature_select_model.fit(X_train, y_train)\n",
    "\n",
    "len(feature_select_model.get_support())"
   ]
  },
  {
   "cell_type": "code",
   "execution_count": 40,
   "id": "546bfe12-d105-44fb-b336-0a0431caf561",
   "metadata": {},
   "outputs": [
    {
     "name": "stdout",
     "output_type": "stream",
     "text": [
      "72\n"
     ]
    },
    {
     "data": {
      "text/plain": [
       "Index(['MS SubClass', 'Lot Frontage', 'Lot Area', 'Neighborhood',\n",
       "       'Overall Qual', 'Overall Cond', 'Year Built', 'Year Remod/Add',\n",
       "       'Mas Vnr Area', 'BsmtFin SF 1', 'BsmtFin SF 2', 'Bsmt Unf SF',\n",
       "       'Total Bsmt SF', '1st Flr SF', '2nd Flr SF', 'Low Qual Fin SF',\n",
       "       'Gr Liv Area', 'Bsmt Full Bath', 'Full Bath', 'Kitchen AbvGr',\n",
       "       'Fireplaces', 'Garage Yr Blt', 'Garage Cars', 'Garage Area',\n",
       "       'Wood Deck SF', 'Open Porch SF', 'Enclosed Porch', '3Ssn Porch',\n",
       "       'Screen Porch', 'Pool Area', 'Misc Val', 'Mo Sold', 'Lot Frontage_nans',\n",
       "       'basement_livable', 'Functional_Num', 'ExterQual_Num',\n",
       "       'KitchenQual_Num', 'neigh_score', 'MS Zoning_RL', 'MS Zoning_RM',\n",
       "       'MS Zoning_Rare_var', 'Lot Shape_Reg', 'Land Contour_HLS',\n",
       "       'Condition 1_Norm', 'House Style_2Story', 'Roof Style_Hip',\n",
       "       'Exterior 1st_BrkFace', 'Exterior 1st_Plywood', 'Exterior 2nd_MetalSd',\n",
       "       'Exterior 2nd_VinylSd', 'Mas Vnr Type_BrkFace', 'Exter Qual_Gd',\n",
       "       'Exter Cond_TA', 'Foundation_PConc', 'Bsmt Qual_Gd', 'Bsmt Exposure_Gd',\n",
       "       'Bsmt Exposure_No', 'BsmtFin Type 1_BLQ', 'BsmtFin Type 1_Unf',\n",
       "       'Heating_Rare_var', 'Heating QC_TA', 'Central Air_Y', 'Kitchen Qual_Gd',\n",
       "       'Functional_Typ', 'Garage Type_Detchd', 'Garage Finish_RFn',\n",
       "       'Garage Qual_TA', 'Garage Cond_TA', 'Paved Drive_Y', 'Fence_GdWo',\n",
       "       'Fence_MnPrv', 'Sale Type_WD '],\n",
       "      dtype='object')"
      ]
     },
     "execution_count": 40,
     "metadata": {},
     "output_type": "execute_result"
    }
   ],
   "source": [
    "selected_features_2 = X_train.columns[feature_select_model.get_support()]\n",
    "print(len(selected_features_2))\n",
    "selected_features_2"
   ]
  },
  {
   "cell_type": "code",
   "execution_count": 41,
   "id": "16d38648-fa18-4c6a-afae-54a6f54e763c",
   "metadata": {},
   "outputs": [
    {
     "name": "stdout",
     "output_type": "stream",
     "text": [
      "train score:  0.9345350242132876\n",
      "test score:  0.8390191944523911\n",
      "cross val score:  0.8736753469236195\n"
     ]
    }
   ],
   "source": [
    "lr = LinearRegression()\n",
    "lr.fit(X_train, y_train)\n",
    "\n",
    "print('train score: ',lr.score(X_train,y_train))\n",
    "\n",
    "print('test score: ',lr.score(X_test,y_test))\n",
    "\n",
    "print('cross val score: ', cross_val_score(lr,X_train,y_train).mean())"
   ]
  },
  {
   "cell_type": "code",
   "execution_count": 19,
   "id": "f1a7dd01-fd92-49b0-96c1-664bca5126de",
   "metadata": {},
   "outputs": [],
   "source": [
    "def calculate_vif(df, features):    \n",
    "    vif, tolerance = {}, {}\n",
    "    # all the features that you want to examine\n",
    "    for feature in features:\n",
    "        # extract all the other features you will regress against\n",
    "        X = [f for f in features if f != feature]        \n",
    "        X, y = df[X], df[feature]\n",
    "        # extract r-squared from the fit\n",
    "        r2 = LinearRegression().fit(X, y).score(X, y)                \n",
    "        \n",
    "        # calculate tolerance\n",
    "        tolerance[feature] = 1 - r2\n",
    "        # calculate VIF\n",
    "        vif[feature] = 1/(tolerance[feature])\n",
    "    # return VIF DataFrame\n",
    "    return pd.DataFrame({'VIF': vif, 'Tolerance': tolerance})\n",
    "\n",
    "#From very useful areticle on multi colinearity\n",
    "#https://towardsdatascience.com/statistics-in-python-collinearity-and-multicollinearity-4cc4dcd82b3f"
   ]
  },
  {
   "cell_type": "code",
   "execution_count": 20,
   "id": "acaa88cd-1168-434e-94a7-7537546e104a",
   "metadata": {},
   "outputs": [
    {
     "ename": "NameError",
     "evalue": "name 'features' is not defined",
     "output_type": "error",
     "traceback": [
      "\u001b[0;31m---------------------------------------------------------------------------\u001b[0m",
      "\u001b[0;31mNameError\u001b[0m                                 Traceback (most recent call last)",
      "\u001b[0;32m<ipython-input-20-8ba989a36569>\u001b[0m in \u001b[0;36m<module>\u001b[0;34m\u001b[0m\n\u001b[0;32m----> 1\u001b[0;31m \u001b[0mcalculate_vif\u001b[0m\u001b[0;34m(\u001b[0m\u001b[0mdf\u001b[0m\u001b[0;34m,\u001b[0m\u001b[0mfeatures\u001b[0m\u001b[0;34m)\u001b[0m\u001b[0;34m\u001b[0m\u001b[0;34m\u001b[0m\u001b[0m\n\u001b[0m",
      "\u001b[0;31mNameError\u001b[0m: name 'features' is not defined"
     ]
    }
   ],
   "source": [
    "calculate_vif(df,features)"
   ]
  },
  {
   "cell_type": "code",
   "execution_count": 21,
   "id": "254bc4d2-a3d4-4006-99cc-ef641475c952",
   "metadata": {},
   "outputs": [],
   "source": [
    "X = df.drop(columns = ['SalePrice'])\n",
    "y = df['SalePrice']"
   ]
  },
  {
   "cell_type": "code",
   "execution_count": 22,
   "id": "fe3d62a6-0071-4a07-aecc-8f7f794d9c08",
   "metadata": {},
   "outputs": [
    {
     "ename": "NameError",
     "evalue": "name 'features' is not defined",
     "output_type": "error",
     "traceback": [
      "\u001b[0;31m---------------------------------------------------------------------------\u001b[0m",
      "\u001b[0;31mNameError\u001b[0m                                 Traceback (most recent call last)",
      "\u001b[0;32m<ipython-input-22-a5792ec0925d>\u001b[0m in \u001b[0;36m<module>\u001b[0;34m\u001b[0m\n\u001b[0;32m----> 1\u001b[0;31m \u001b[0mX_train\u001b[0m\u001b[0;34m,\u001b[0m \u001b[0mX_test\u001b[0m\u001b[0;34m,\u001b[0m \u001b[0my_train\u001b[0m\u001b[0;34m,\u001b[0m \u001b[0my_test\u001b[0m \u001b[0;34m=\u001b[0m \u001b[0mtrain_test_split\u001b[0m\u001b[0;34m(\u001b[0m\u001b[0mX\u001b[0m\u001b[0;34m[\u001b[0m\u001b[0mfeatures\u001b[0m\u001b[0;34m]\u001b[0m\u001b[0;34m,\u001b[0m\u001b[0my\u001b[0m\u001b[0;34m,\u001b[0m \u001b[0mrandom_state\u001b[0m\u001b[0;34m=\u001b[0m \u001b[0;36m13\u001b[0m\u001b[0;34m)\u001b[0m\u001b[0;34m\u001b[0m\u001b[0;34m\u001b[0m\u001b[0m\n\u001b[0m",
      "\u001b[0;31mNameError\u001b[0m: name 'features' is not defined"
     ]
    }
   ],
   "source": [
    "X_train, X_test, y_train, y_test = train_test_split(X[features],y, random_state= 13)"
   ]
  },
  {
   "cell_type": "code",
   "execution_count": 23,
   "id": "66067f2f-c161-4672-9cd4-0d8da8e1244c",
   "metadata": {},
   "outputs": [],
   "source": [
    "alphas = np.linspace(0.0001,0.001,1000)"
   ]
  },
  {
   "cell_type": "code",
   "execution_count": 24,
   "id": "20d7f7cf-f085-4324-a7fb-e9919eb4474e",
   "metadata": {},
   "outputs": [
    {
     "name": "stderr",
     "output_type": "stream",
     "text": [
      "/Users/bku/opt/anaconda3/lib/python3.8/site-packages/sklearn/linear_model/_coordinate_descent.py:530: ConvergenceWarning: Objective did not converge. You might want to increase the number of iterations. Duality gap: 12.396768293360454, tolerance: 0.02647619022902733\n",
      "  model = cd_fast.enet_coordinate_descent(\n"
     ]
    },
    {
     "data": {
      "text/plain": [
       "206"
      ]
     },
     "execution_count": 24,
     "metadata": {},
     "output_type": "execute_result"
    }
   ],
   "source": [
    "feature_select_model = SelectFromModel(Lasso(alpha=0.0008, random_state=13)) #alpha=0.005, 0.00075\n",
    "feature_select_model.fit(X_train, y_train)\n",
    "\n",
    "len(feature_select_model.get_support())"
   ]
  },
  {
   "cell_type": "code",
   "execution_count": 25,
   "id": "de63b9e4-b497-4335-91d2-6f950527e4e0",
   "metadata": {},
   "outputs": [
    {
     "name": "stdout",
     "output_type": "stream",
     "text": [
      "80\n"
     ]
    },
    {
     "data": {
      "text/plain": [
       "Index(['MS SubClass', 'Lot Frontage', 'Lot Area', 'Neighborhood',\n",
       "       'Overall Qual', 'Overall Cond', 'Year Built', 'Year Remod/Add',\n",
       "       'Mas Vnr Area', 'BsmtFin SF 1', 'BsmtFin SF 2', 'Bsmt Unf SF',\n",
       "       'Total Bsmt SF', '1st Flr SF', '2nd Flr SF', 'Low Qual Fin SF',\n",
       "       'Gr Liv Area', 'Bsmt Full Bath', 'Bsmt Half Bath', 'Full Bath',\n",
       "       'Kitchen AbvGr', 'TotRms AbvGrd', 'Fireplaces', 'Garage Yr Blt',\n",
       "       'Garage Cars', 'Garage Area', 'Wood Deck SF', 'Open Porch SF',\n",
       "       'Enclosed Porch', '3Ssn Porch', 'Screen Porch', 'Pool Area', 'Misc Val',\n",
       "       'Mo Sold', 'Lot Frontage_nans', 'basement_livable', 'Functional_Num',\n",
       "       'ExterQual_Num', 'KitchenQual_Num', 'neigh_score', 'MS Zoning_RL',\n",
       "       'MS Zoning_RM', 'MS Zoning_Rare_var', 'Lot Shape_Reg',\n",
       "       'Land Contour_HLS', 'Lot Config_CulDSac', 'Condition 1_Norm',\n",
       "       'House Style_2Story', 'Roof Style_Hip', 'Roof Style_Rare_var',\n",
       "       'Exterior 1st_BrkFace', 'Exterior 1st_Plywood', 'Exterior 2nd_MetalSd',\n",
       "       'Exterior 2nd_VinylSd', 'Mas Vnr Type_BrkFace', 'Exter Qual_Gd',\n",
       "       'Exter Cond_TA', 'Foundation_PConc', 'Bsmt Qual_Fa', 'Bsmt Qual_Gd',\n",
       "       'Bsmt Exposure_Gd', 'Bsmt Exposure_No', 'BsmtFin Type 1_BLQ',\n",
       "       'BsmtFin Type 1_Rec', 'BsmtFin Type 1_Unf', 'Heating_Rare_var',\n",
       "       'Heating QC_TA', 'Central Air_Y', 'Kitchen Qual_Gd', 'Functional_Min2',\n",
       "       'Functional_Typ', 'Garage Type_Detchd', 'Garage Finish_RFn',\n",
       "       'Garage Qual_TA', 'Garage Cond_TA', 'Paved Drive_Y', 'Fence_GdWo',\n",
       "       'Fence_MnPrv', 'Misc Feature_Shed', 'Sale Type_WD '],\n",
       "      dtype='object')"
      ]
     },
     "execution_count": 25,
     "metadata": {},
     "output_type": "execute_result"
    }
   ],
   "source": [
    "selected_features_2 = X_train.columns[feature_select_model.get_support()]\n",
    "print(len(selected_features_2))\n",
    "selected_features_2"
   ]
  },
  {
   "cell_type": "code",
   "execution_count": 26,
   "id": "f9889389-f472-407c-9070-2cd457bcdd0c",
   "metadata": {},
   "outputs": [],
   "source": [
    "X_train, X_test, y_train, y_test = train_test_split(X[selected_features_2],y, random_state= 13)"
   ]
  },
  {
   "cell_type": "code",
   "execution_count": 44,
   "id": "782c7516-d4b6-48a8-9aaa-e74d9a333795",
   "metadata": {},
   "outputs": [],
   "source": [
    "X_train = X_train[selected_features_2]\n",
    "X_test = X_test[selected_features_2]"
   ]
  },
  {
   "cell_type": "code",
   "execution_count": 45,
   "id": "c00f816b-7f5f-49eb-b473-fc981b294d71",
   "metadata": {},
   "outputs": [
    {
     "name": "stdout",
     "output_type": "stream",
     "text": [
      "train score:  0.922657461850858\n",
      "test score:  0.8675138196079147\n",
      "cross val score:  0.896818990592838\n"
     ]
    }
   ],
   "source": [
    "lr = LinearRegression()\n",
    "lr.fit(X_train, y_train)\n",
    "\n",
    "print('train score: ',lr.score(X_train,y_train))\n",
    "\n",
    "print('test score: ',lr.score(X_test,y_test))\n",
    "\n",
    "print('cross val score: ', cross_val_score(lr,X_train,y_train).mean())"
   ]
  },
  {
   "cell_type": "code",
   "execution_count": 28,
   "id": "4a6bc285-33b9-47f3-a09a-97aed75748be",
   "metadata": {},
   "outputs": [
    {
     "ename": "SyntaxError",
     "evalue": "invalid syntax (<ipython-input-28-463772fd217d>, line 1)",
     "output_type": "error",
     "traceback": [
      "\u001b[0;36m  File \u001b[0;32m\"<ipython-input-28-463772fd217d>\"\u001b[0;36m, line \u001b[0;32m1\u001b[0m\n\u001b[0;31m    train score:  0.9178747924655807\u001b[0m\n\u001b[0m          ^\u001b[0m\n\u001b[0;31mSyntaxError\u001b[0m\u001b[0;31m:\u001b[0m invalid syntax\n"
     ]
    }
   ],
   "source": [
    "train score:  0.9178747924655807\n",
    "test score:  0.8545696586724228\n",
    "cross val score:  0.8952684830018457  # 0.0008"
   ]
  },
  {
   "cell_type": "code",
   "execution_count": 29,
   "id": "edfd6d93-53ec-4a2b-b314-f62407cdd827",
   "metadata": {},
   "outputs": [],
   "source": [
    "#for feature in columns_root_transform:\n",
    "#        final_df[feature] = np.sqrt(final_df[feature])\n",
    "\n"
   ]
  },
  {
   "cell_type": "code",
   "execution_count": 46,
   "id": "3c5a86c3-877d-43c7-806f-b4d0a4cb34ba",
   "metadata": {},
   "outputs": [
    {
     "data": {
      "text/plain": [
       "0"
      ]
     },
     "execution_count": 46,
     "metadata": {},
     "output_type": "execute_result"
    }
   ],
   "source": [
    "final_df.isnull().sum().sum()"
   ]
  },
  {
   "cell_type": "code",
   "execution_count": 31,
   "id": "0724ec61-a88e-429f-8769-748fb3484088",
   "metadata": {},
   "outputs": [],
   "source": [
    "#These are the nans from fixing the get_dummy problem and concatenating, here we fix\n",
    "final_df.fillna(0, inplace = True)"
   ]
  },
  {
   "cell_type": "code",
   "execution_count": 47,
   "id": "ca4653f2-2aac-49e1-a819-85f639a51bb1",
   "metadata": {},
   "outputs": [
    {
     "data": {
      "text/plain": [
       "(878,)"
      ]
     },
     "execution_count": 47,
     "metadata": {},
     "output_type": "execute_result"
    }
   ],
   "source": [
    "preds = lr.predict(final_df[selected_features_2])\n",
    "preds.shape"
   ]
  },
  {
   "cell_type": "code",
   "execution_count": 48,
   "id": "94570116-c892-441e-9e97-d8f5da48265a",
   "metadata": {},
   "outputs": [
    {
     "data": {
      "text/html": [
       "<div>\n",
       "<style scoped>\n",
       "    .dataframe tbody tr th:only-of-type {\n",
       "        vertical-align: middle;\n",
       "    }\n",
       "\n",
       "    .dataframe tbody tr th {\n",
       "        vertical-align: top;\n",
       "    }\n",
       "\n",
       "    .dataframe thead th {\n",
       "        text-align: right;\n",
       "    }\n",
       "</style>\n",
       "<table border=\"1\" class=\"dataframe\">\n",
       "  <thead>\n",
       "    <tr style=\"text-align: right;\">\n",
       "      <th></th>\n",
       "      <th>SalePrice</th>\n",
       "    </tr>\n",
       "    <tr>\n",
       "      <th>Id</th>\n",
       "      <th></th>\n",
       "    </tr>\n",
       "  </thead>\n",
       "  <tbody>\n",
       "    <tr>\n",
       "      <th>2658</th>\n",
       "      <td>59967.865065</td>\n",
       "    </tr>\n",
       "    <tr>\n",
       "      <th>2718</th>\n",
       "      <td>71400.387477</td>\n",
       "    </tr>\n",
       "    <tr>\n",
       "      <th>2414</th>\n",
       "      <td>96801.053953</td>\n",
       "    </tr>\n",
       "    <tr>\n",
       "      <th>1989</th>\n",
       "      <td>48323.338416</td>\n",
       "    </tr>\n",
       "    <tr>\n",
       "      <th>625</th>\n",
       "      <td>81123.145483</td>\n",
       "    </tr>\n",
       "  </tbody>\n",
       "</table>\n",
       "</div>"
      ],
      "text/plain": [
       "         SalePrice\n",
       "Id                \n",
       "2658  59967.865065\n",
       "2718  71400.387477\n",
       "2414  96801.053953\n",
       "1989  48323.338416\n",
       "625   81123.145483"
      ]
     },
     "execution_count": 48,
     "metadata": {},
     "output_type": "execute_result"
    }
   ],
   "source": [
    "final_df['SalePrice'] = np.exp(preds)\n",
    "submission = final_df[['Id', 'SalePrice']]\n",
    "submission.set_index('Id', inplace=True)\n",
    "submission.head()"
   ]
  },
  {
   "cell_type": "code",
   "execution_count": 351,
   "id": "d419d8f9-c690-41f7-9e86-1bbbd230c1fd",
   "metadata": {},
   "outputs": [],
   "source": [
    "submission.to_csv('../data/submissions/18_submission.csv')"
   ]
  },
  {
   "cell_type": "markdown",
   "id": "067072e1-189b-44e5-82b7-c34aac57b1ca",
   "metadata": {},
   "source": [
    "## Looking for and fixing the corrupted few entries"
   ]
  },
  {
   "cell_type": "code",
   "execution_count": 62,
   "id": "530c2807-f508-4304-ad92-3c92a0c2c530",
   "metadata": {},
   "outputs": [],
   "source": [
    "goof_df = pd.read_csv('../data/train_cleaned.csv')\n",
    "goof_final_df = pd.read_csv('../data/test_cleaned.csv')"
   ]
  },
  {
   "cell_type": "code",
   "execution_count": 63,
   "id": "359364a9-974f-4132-a25b-928af7c53061",
   "metadata": {},
   "outputs": [],
   "source": [
    "pop =[feature for feature in goof_df.columns if feature != 'O' and goof_df[feature].isnull().sum() == 0]"
   ]
  },
  {
   "cell_type": "code",
   "execution_count": 701,
   "id": "9196bf11-af7d-477d-892b-d9b2d4835855",
   "metadata": {},
   "outputs": [
    {
     "name": "stdout",
     "output_type": "stream",
     "text": [
      "Year Built :  1\n",
      "Year Remod/Add :  2\n",
      "Garage Yr Blt :  2\n"
     ]
    }
   ],
   "source": [
    "for feature in pop:\n",
    "    try:\n",
    "        if len(goof_df[goof_df[feature] <0]) >0:\n",
    "            print(feature,\": \", len(goof_df[goof_df[feature] <0]))\n",
    "    except:\n",
    "        continue\n"
   ]
  },
  {
   "cell_type": "code",
   "execution_count": 702,
   "id": "28d9f0e7-7d0d-425a-a73c-0cf3cc6df12f",
   "metadata": {},
   "outputs": [],
   "source": [
    "bop = [feature for feature in goof_final_df.columns if feature != 'O' and goof_final_df[feature].isnull().sum() == 0]"
   ]
  },
  {
   "cell_type": "code",
   "execution_count": 703,
   "id": "a4ef1580-0e95-43aa-8a84-5208cbb8d910",
   "metadata": {},
   "outputs": [
    {
     "name": "stdout",
     "output_type": "stream",
     "text": [
      "Year Built :  1\n",
      "Year Remod/Add :  2\n",
      "Garage Yr Blt :  2\n"
     ]
    }
   ],
   "source": [
    "for feature in pop:\n",
    "    try:\n",
    "        if len(goof_df[goof_df[feature] <0]) >0:\n",
    "            print(feature,\": \", len(goof_df[goof_df[feature] <0]))\n",
    "    except:\n",
    "        continue\n"
   ]
  },
  {
   "cell_type": "code",
   "execution_count": null,
   "id": "0c3db34e-a3b2-4879-9707-1946e6c83319",
   "metadata": {},
   "outputs": [],
   "source": [
    "#Ok so for some reason those specific fixes were necessary but \n",
    "#they are the only negatives so now we should be good!"
   ]
  },
  {
   "cell_type": "code",
   "execution_count": null,
   "id": "7c18e6e9-f903-4493-8890-62fe9c045b5f",
   "metadata": {},
   "outputs": [],
   "source": []
  },
  {
   "cell_type": "markdown",
   "id": "547b9f02-07e6-46b3-9d19-3ec51c9f2dcd",
   "metadata": {},
   "source": [
    "### Continuous composite quality score if needed, also already normalized i believe but check"
   ]
  },
  {
   "cell_type": "code",
   "execution_count": null,
   "id": "f1f8b8e5-e255-494a-b760-5d45d22cab2b",
   "metadata": {},
   "outputs": [],
   "source": [
    "#Now to transform the final test submission data to have this feature\n",
    "def add_neigh_score_continuous(df):\n",
    "\n",
    "    def functional_numeric(x):\n",
    "        if 'Typ' in x:\n",
    "            return 8\n",
    "        elif 'Min1' in x:\n",
    "            return 7\n",
    "        elif 'Min2' in x:\n",
    "            return 6\n",
    "        elif 'Mod' in x:\n",
    "            return 5\n",
    "        elif 'Maj1' in x:\n",
    "            return 4\n",
    "        elif 'Maj2' in x:\n",
    "            return 3\n",
    "        elif 'Sev' in x:\n",
    "            return 2    \n",
    "        else:\n",
    "            return 1\n",
    "    \n",
    "    def extercond_numeric(x):\n",
    "        if 'Ex' in x:\n",
    "            return 5\n",
    "        elif 'Gd' in x:\n",
    "            return 4\n",
    "        elif 'TA' in x:\n",
    "            return 3\n",
    "        elif 'Fa' in x:\n",
    "            return 2\n",
    "        else:\n",
    "            return 1\n",
    "    \n",
    "    def final_score(hood):\n",
    "        if hood < -0.675 :     #Found 25% z score online\n",
    "            return 1\n",
    "        elif hood < 0  :   \n",
    "            return 2\n",
    "        elif hood < 0.675  :   \n",
    "            return 3\n",
    "        else:\n",
    "            return 4\n",
    "    \n",
    "    df['Functional_Num'] = df['Functional'].map(functional_numeric)\n",
    "    df['ExterCond_Num'] = df['Exter Cond'].map(extercond_numeric)\n",
    "    df['ExterQual_Num'] = df['Exter Qual'].map(extercond_numeric)#Same categories \n",
    "    df['KitchenQual_Num'] = df['Kitchen Qual'].map(extercond_numeric)#Same categories\n",
    "    df['neigh_score'] = ((df['Overall Qual']/df['Overall Qual'].mean()) \n",
    "    + (df['Overall Cond']/df['Overall Cond'].mean())\n",
    "    + (df['ExterQual_Num']/df['ExterQual_Num'].mean())\n",
    "    + (df['ExterCond_Num']/df['ExterCond_Num'].mean()) \n",
    "    + (df['Functional_Num']/df['Functional_Num'].mean()))\n",
    "    + (df['KitchenQual_Num']/df['KitchenQual_Num'].mean())\n",
    "    #df['neigh_score'] = (df['neigh_score']- df['neigh_score'].mean())/df['neigh_score'].std()\n",
    "    #df['neigh_score_ordinal'] = df['neigh_score'].map(final_score)\n",
    "    df['neigh_score_continuous'] = (df['neigh_score']-df['neigh_score'].min())/(df['neigh_score'].max()-df['neigh_score'].min())\n",
    "    df.drop(columns = ['neigh_score'], inplace = True)\n",
    "    \n",
    "    return df\n",
    "\n"
   ]
  },
  {
   "cell_type": "code",
   "execution_count": null,
   "id": "48c56af3-930a-43a0-8c16-3ab57b06a21e",
   "metadata": {},
   "outputs": [],
   "source": [
    "final_df = add_neigh_score_continuous(final_df)\n",
    "final_df.head(3)"
   ]
  },
  {
   "cell_type": "code",
   "execution_count": null,
   "id": "ea5881c9-8a43-4ef1-bfcf-552dc9c1ebfe",
   "metadata": {},
   "outputs": [],
   "source": []
  },
  {
   "cell_type": "markdown",
   "id": "1ec37479-06f3-4641-b4c9-8322e6416a69",
   "metadata": {},
   "source": [
    "## Scalars"
   ]
  },
  {
   "cell_type": "code",
   "execution_count": 322,
   "id": "45406ca3-e597-4b2d-9319-ecc1e34bca9a",
   "metadata": {},
   "outputs": [],
   "source": [
    "#Apply this scaling to the train data prior to feature selection and also to final test data\n",
    "\n",
    "\n",
    "\n",
    "#feature_scale=[feature for feature in df.columns if feature not in ['Id','SalePrice']]\n",
    "\n",
    "#from sklearn.preprocessing import MinMaxScaler\n",
    "#scaler=MinMaxScaler()\n",
    "#scaler.fit(df[feature_scale])\n",
    "\n",
    "#scaler.transform(df[feature_scale])"
   ]
  },
  {
   "cell_type": "code",
   "execution_count": null,
   "id": "357a3898-168d-4427-8601-906aa206e6ef",
   "metadata": {},
   "outputs": [],
   "source": [
    "# transform the train and test set, and add on the Id and SalePrice variables\n",
    "#new_data = pd.concat([df[['Id', 'SalePrice']].reset_index(drop=True),\n",
    "#                    pd.DataFrame(scaler.transform(df[feature_scale]), columns=feature_scale)],\n",
    "#                    axis=1)\n",
    "#new_data.head()"
   ]
  },
  {
   "cell_type": "code",
   "execution_count": null,
   "id": "def797ba-0681-4d74-aeb7-18da495027c7",
   "metadata": {},
   "outputs": [],
   "source": [
    "#sc = StandardScaler()\n",
    "#Z_train = sc.fit_transform(X_train)\n",
    "#Z_test = sc.transform(X_test)"
   ]
  }
 ],
 "metadata": {
  "kernelspec": {
   "display_name": "Python 3",
   "language": "python",
   "name": "python3"
  },
  "language_info": {
   "codemirror_mode": {
    "name": "ipython",
    "version": 3
   },
   "file_extension": ".py",
   "mimetype": "text/x-python",
   "name": "python",
   "nbconvert_exporter": "python",
   "pygments_lexer": "ipython3",
   "version": "3.8.11"
  }
 },
 "nbformat": 4,
 "nbformat_minor": 5
}
